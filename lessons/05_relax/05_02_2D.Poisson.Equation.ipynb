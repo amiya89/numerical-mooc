{
 "cells": [
  {
   "cell_type": "markdown",
   "metadata": {},
   "source": [
    "###### Content under Creative Commons Attribution license CC-BY 4.0, code under MIT license (c)2014 L.A. Barba, C.D. Cooper, G.F. Forsyth.  Based on [CFDPython](https://github.com/barbagroup/CFDPython), (c)2013 L.A. Barba, also under CC-BY license."
   ]
  },
  {
   "cell_type": "markdown",
   "metadata": {},
   "source": [
    "# Relax and hold steady"
   ]
  },
  {
   "cell_type": "markdown",
   "metadata": {},
   "source": [
    "Welcome to the second notebook of *Relax and hold steady: elliptic problems*, the fifth module of [**\"Practical Numerical Methods with Python\"**](http://openedx.seas.gwu.edu/courses/GW/MAE6286/2014_fall/about).\n",
    "\n",
    "The previous notebook introduced the Laplace equation, which is time-independent. To solve the resulting linear system, we used Jacobi iterations to *relax* an initial guess to the final solution. This notebook presents a slight modification. Now, the right hand side of the equation is not 0, but a forcing function that drives the solution: we present to you the **Poisson equation**."
   ]
  },
  {
   "cell_type": "markdown",
   "metadata": {},
   "source": [
    "## Poisson Equation"
   ]
  },
  {
   "cell_type": "markdown",
   "metadata": {},
   "source": [
    "Poisson's equation is obtained by adding a source term to the right-hand-side of Laplace's equation:\n",
    "\n",
    "$$\\frac{\\partial ^2 p}{\\partial x^2} + \\frac{\\partial ^2 p}{\\partial y^2} = b$$\n",
    "\n",
    "So, unlike the Laplace equation, there is some finite value inside the field that affects the solution. \n",
    "\n",
    "In discretized form, this looks almost the same as [the Laplace Equation](./05_01_2D.Laplace.Equation.ipynb), except for the source term:\n",
    "\n",
    "$$\\frac{p_{i+1,j}^{k}-2p_{i,j}^{k}+p_{i-1,j}^{k}}{\\Delta x^2}+\\frac{p_{i,j+1}^{k}-2 p_{i,j}^{k}+p_{i,j-1}^{k}}{\\Delta y^2}=b_{i,j}^{k}$$\n",
    "\n",
    "As before, we rearrange this to obtain an equation for $p$ at point $i,j$. \n",
    "\n",
    "$$p_{i,j}^{k+1}=\\frac{(p_{i+1,j}^{k}+p_{i-1,j}^{k})\\Delta y^2+(p_{i,j+1}^{k}+p_{i,j-1}^{k})\\Delta x^2-b_{i,j}^{k}\\Delta x^2\\Delta y^2}{2(\\Delta x^2+\\Delta y^2)}$$\n",
    "\n",
    "It's slightly more complicated than the Laplace equation, but nothing we can't handle.  "
   ]
  },
  {
   "cell_type": "markdown",
   "metadata": {},
   "source": [
    "## An example problem"
   ]
  },
  {
   "cell_type": "markdown",
   "metadata": {},
   "source": [
    "Let's consider the Poisson equation\n",
    "\n",
    "\\begin{equation}\n",
    "\\nabla^2 p = -2\\left(\\frac{\\pi}{2}\\right)^2\\sin\\left( \\frac{\\pi x}{L} \\right) \\cos\\left(\\frac{\\pi y}{L}\\right)\n",
    "\\end{equation}\n",
    "\n",
    "in the domain \n",
    "\n",
    "$$\\left\\lbrace \\begin{align*}\n",
    "0 &\\leq x\\leq 1  \\\\\n",
    "-0.5 &\\leq y \\leq 0.5 \n",
    "\\end{align*} \\right.$$\n",
    "\n",
    "with boundary conditions \n",
    "\n",
    "$$p=0 \\text{ at } \\left\\lbrace \n",
    "\\begin{align*}\n",
    "x&=0\\\\\n",
    "y&=0\\\\\n",
    "y&=-0.5\\\\\n",
    "y&=0.5\n",
    "\\end{align*} \\right.$$\n",
    "\n",
    "To solve this equation, we assume an initial state of $p=0$ everywhere, apply the boundary conditions and then iteratively relax the system until we converge on a solution."
   ]
  },
  {
   "cell_type": "markdown",
   "metadata": {},
   "source": [
    "To start, let's import libraries and setup our mesh"
   ]
  },
  {
   "cell_type": "code",
   "execution_count": null,
   "metadata": {
    "collapsed": false
   },
   "outputs": [],
   "source": [
    "from mpl_toolkits.mplot3d import Axes3D\n",
    "from matplotlib import pyplot, cm\n",
    "from math import pi\n",
    "import numpy\n",
    "%matplotlib inline\n",
    "from matplotlib import rcParams\n",
    "rcParams['font.family'] = 'serif'\n",
    "rcParams['font.size'] = 16"
   ]
  },
  {
   "cell_type": "code",
   "execution_count": null,
   "metadata": {
    "collapsed": false
   },
   "outputs": [],
   "source": [
    "# Parameters\n",
    "nx = 41\n",
    "ny = 41\n",
    "xmin = 0\n",
    "xmax = 1\n",
    "ymin = -0.5\n",
    "ymax = 0.5\n",
    "\n",
    "\n",
    "l2_target = 1e-10\n",
    "\n",
    "def initialization(nx, ny, xmax, xmin, ymax, ymin):\n",
    "    '''Initialization\n",
    "    Parameters:\n",
    "    ----------\n",
    "    nx : int\n",
    "        number of mesh points in x\n",
    "    ny : int\n",
    "        number of mesh points in y\n",
    "    xmax: float\n",
    "        maximum value of x in mesh\n",
    "    xmin: float\n",
    "        minimum value of x in mesh\n",
    "    ymax: float\n",
    "        maximum value of y in mesh\n",
    "    ymin: float\n",
    "        minimum value of y in mesh\n",
    "    \n",
    "    Returns:\n",
    "    -------\n",
    "    X  : 2D array of floats\n",
    "        X-position of mesh\n",
    "    Y  : 2D array of floats\n",
    "        Y-position of mesh\n",
    "    p_i: 2D array of floats\n",
    "        initial guess of p\n",
    "    b  : 2D array of floats\n",
    "        forcing function\n",
    "    dx : float\n",
    "        mesh size in x direction\n",
    "    dy : float\n",
    "        mesh size in y direction\n",
    "    '''\n",
    "\n",
    "    dx = (xmax-xmin)/(nx-1)\n",
    "    dy = (ymax-ymin)/(ny-1)\n",
    "\n",
    "    # Mesh\n",
    "    x  = numpy.linspace(xmin,xmax,nx)\n",
    "    y  = numpy.linspace(ymin,ymax,ny)\n",
    "    X,Y = numpy.meshgrid(x,y)\n",
    "\n",
    "    # Source\n",
    "    L = xmax-xmin\n",
    "    b = -2*(pi/L)**2*numpy.sin(pi*X/L)*numpy.cos(pi*Y/L)\n",
    "\n",
    "    # Initialization\n",
    "    p_i  = numpy.zeros((ny,nx))\n",
    "\n",
    "    return X, Y, x, y, p_i, b, dx, dy, L"
   ]
  },
  {
   "cell_type": "markdown",
   "metadata": {},
   "source": [
    "Our Jacobi iterations need an exit condition. We can use the same relative L2 norm that we wrote for the Laplace exit condition.  We've dumped that function into a helper file for easy importing.  "
   ]
  },
  {
   "cell_type": "code",
   "execution_count": null,
   "metadata": {
    "collapsed": false
   },
   "outputs": [],
   "source": [
    "from laplace_helper import L2_rel_error"
   ]
  },
  {
   "cell_type": "markdown",
   "metadata": {},
   "source": [
    "Now it's time to write the function to solve the Poisson equation.  Notice that all of the boundaries in this problem are Dirichlet boundaries, so no BC updates required!\n",
    "\n",
    "There's also one extra piece we're adding in here.  We save the L2 error between successive iterations for each round of the `while` loop.  After we're finished we can examine how quickly (or not) the problem converged."
   ]
  },
  {
   "cell_type": "code",
   "execution_count": null,
   "metadata": {
    "collapsed": false
   },
   "outputs": [],
   "source": [
    "def poisson_2d(p, b, dx, dy, l2_target):\n",
    "    '''Performs Jacobi relaxation\n",
    "    \n",
    "    Parameters:\n",
    "    ----------\n",
    "    p : 2D array of floats\n",
    "        Initial guess\n",
    "    b : 2D array of floats\n",
    "        Source term\n",
    "    dx: float\n",
    "        Mesh spacing in x direction\n",
    "    dy: float\n",
    "        Mesh spacing in y direction\n",
    "    l2_target: float\n",
    "        Error target\n",
    "    \n",
    "    Returns:\n",
    "    -------\n",
    "    p: 2D array of float\n",
    "        Distribution after relaxation\n",
    "    '''\n",
    "\n",
    "    l2_norm = 1\n",
    "    iterations = 0\n",
    "    l2_conv = []\n",
    "    \n",
    "    while l2_norm > l2_target:\n",
    "\n",
    "        pd = p.copy()\n",
    "\n",
    "        p[1:-1,1:-1] = 1/(2*(dx**2 + dy**2)) * \\\n",
    "                        ((pd[1:-1,2:]+pd[1:-1,:-2])*dy**2 +\\\n",
    "                        (pd[2:,1:-1] + pd[:-2,1:-1])*dx**2 -\\\n",
    "                         b[1:-1,1:-1]*dx**2*dy**2)\n",
    "    \n",
    "        # BCs are automatically enforced\n",
    "        \n",
    "        l2_norm = L2_rel_error(pd,p)\n",
    "        iterations += 1\n",
    "        l2_conv.append(l2_norm)\n",
    "    \n",
    "    print('Number of Jacobi iterations: {0:d}'.format(iterations))\n",
    "    return p, l2_conv        "
   ]
  },
  {
   "cell_type": "markdown",
   "metadata": {},
   "source": [
    "The `initialization` function sets `p_i` to all zeros for an initial guess at the solution.  We can use the `plot_3D` function we wrote for the Laplace notebook to make sure that everything is set up the way we expect.  "
   ]
  },
  {
   "cell_type": "code",
   "execution_count": null,
   "metadata": {
    "collapsed": true
   },
   "outputs": [],
   "source": [
    "from laplace_helper import plot_3D"
   ]
  },
  {
   "cell_type": "markdown",
   "metadata": {},
   "source": [
    "Now we initialize all of the problem variables and plot!"
   ]
  },
  {
   "cell_type": "code",
   "execution_count": null,
   "metadata": {
    "collapsed": false
   },
   "outputs": [],
   "source": [
    "X, Y, x, y, p_i, b, dx, dy, L = initialization(nx, ny, xmax, xmin, ymax, ymin)\n",
    "plot_3D(x, y, p_i)"
   ]
  },
  {
   "cell_type": "markdown",
   "metadata": {},
   "source": [
    "That looks suitably boring.  Zeros everywhere and boundaries held at zero.  If this were a Laplace problem we would already be done!  \n",
    "\n",
    "We are ready to advance the initial guess in pseudo-time and see what effect the forcing function has on `p`."
   ]
  },
  {
   "cell_type": "code",
   "execution_count": null,
   "metadata": {
    "collapsed": false
   },
   "outputs": [],
   "source": [
    "p, l2_conv = poisson_2d(p_i.copy(), b, dx, dy, l2_target)"
   ]
  },
  {
   "cell_type": "markdown",
   "metadata": {},
   "source": [
    "Let's take a look:"
   ]
  },
  {
   "cell_type": "code",
   "execution_count": null,
   "metadata": {
    "collapsed": false
   },
   "outputs": [],
   "source": [
    "plot_3D(x,y,p)"
   ]
  },
  {
   "cell_type": "markdown",
   "metadata": {},
   "source": [
    "Something has definitely happened.  That looks good, but what about the error? This problem has the following analytical solution:\n",
    "\n",
    "\\begin{equation}\n",
    "p(x,y) = \\sin{\\left(\\frac{x\\pi}{L} \\right)}\\cos{\\left(\\frac{y\\pi}{L} \\right)}\n",
    "\\end{equation}\n",
    "\n",
    "Time to compare the calculated solution to the analytical.  "
   ]
  },
  {
   "cell_type": "code",
   "execution_count": null,
   "metadata": {
    "collapsed": false
   },
   "outputs": [],
   "source": [
    "def p_analytical(X,Y,L):\n",
    "    ''' Computes analytical solution to Poisson problem\n",
    "    Parameters:\n",
    "    ----------\n",
    "    X: 2D array of float\n",
    "        Mesh with x components\n",
    "    Y: 2D array of float\n",
    "        Mesh with y components\n",
    "    L: float\n",
    "        Size of domain\n",
    "    Returns:\n",
    "    -------\n",
    "    Analytical solution\n",
    "    '''\n",
    "    return numpy.sin(X*pi/L)*numpy.cos(Y*pi/L)"
   ]
  },
  {
   "cell_type": "code",
   "execution_count": null,
   "metadata": {
    "collapsed": false
   },
   "outputs": [],
   "source": [
    "p_an = p_analytical(X,Y,L)"
   ]
  },
  {
   "cell_type": "code",
   "execution_count": null,
   "metadata": {
    "collapsed": false
   },
   "outputs": [],
   "source": [
    "error = L2_rel_error(p,p_an)\n",
    "error"
   ]
  },
  {
   "cell_type": "markdown",
   "metadata": {},
   "source": [
    "That is not bad!"
   ]
  },
  {
   "cell_type": "markdown",
   "metadata": {},
   "source": [
    "##### How did the $L_2$-norm evolve with each iteration? "
   ]
  },
  {
   "cell_type": "markdown",
   "metadata": {},
   "source": [
    "Remember that we saved the `l2_norm` at each iteration in the `poisson2D` function?  Now we can look at how it evolved over the course of the problem."
   ]
  },
  {
   "cell_type": "code",
   "execution_count": null,
   "metadata": {
    "collapsed": false
   },
   "outputs": [],
   "source": [
    "pyplot.figure(figsize=(8,6))\n",
    "pyplot.grid(True)\n",
    "pyplot.xlabel(r'iterations', fontsize=18)\n",
    "pyplot.ylabel(r'$L_2$-norm', fontsize=18)\n",
    "pyplot.semilogy(numpy.arange(len(l2_conv)), l2_conv, lw=2, color='k');"
   ]
  },
  {
   "cell_type": "markdown",
   "metadata": {},
   "source": [
    "In the beginning, iterations were converging at a pretty fast rate, but then they kind of stalled out. Are there better ways of doing this? We'll look at that in the following notebooks!"
   ]
  },
  {
   "cell_type": "markdown",
   "metadata": {},
   "source": [
    "### Convergence"
   ]
  },
  {
   "cell_type": "markdown",
   "metadata": {},
   "source": [
    "For a sanity check, let's make sure the code is converging as expected"
   ]
  },
  {
   "cell_type": "code",
   "execution_count": null,
   "metadata": {
    "collapsed": false
   },
   "outputs": [],
   "source": [
    "nx_values = numpy.asarray([11,21,41,81])\n",
    "ny_values = numpy.asarray([11,21,41,81])\n",
    "\n",
    "error = numpy.zeros(len(nx_values))\n",
    "\n",
    "for i in range(len(nx_values)):\n",
    "    \n",
    "    nx = nx_values[i]\n",
    "    ny = ny_values[i]\n",
    "    \n",
    "    X, Y, c, y, p_i, b, dx, dy, L = initialization(nx, ny, xmax, xmin, ymax, ymin)\n",
    "    p, l2_conv = poisson_2d(p_i.copy(), b, dx, dy, l2_target)\n",
    "\n",
    "    p_an = p_analytical(X,Y,L)\n",
    "    \n",
    "    error[i] = L2_rel_error(p,p_an)"
   ]
  },
  {
   "cell_type": "code",
   "execution_count": null,
   "metadata": {
    "collapsed": false
   },
   "outputs": [],
   "source": [
    "pyplot.figure(figsize=(6,6))\n",
    "pyplot.grid(True)\n",
    "pyplot.xlabel(r'$n_x$', fontsize=18)\n",
    "pyplot.ylabel(r'$L_2$-norm of the error', fontsize=18)\n",
    "pyplot.loglog(nx_values, error, color='k', ls='--', lw=2, marker='o')\n",
    "pyplot.axis('equal');"
   ]
  },
  {
   "cell_type": "markdown",
   "metadata": {},
   "source": [
    "That looks pretty much second order!  Remember that the boundary conditions can adversely affect convergence, but Dirichlet boundaries are \"exact\" and will never impact your convergence.  "
   ]
  },
  {
   "cell_type": "markdown",
   "metadata": {},
   "source": [
    "***"
   ]
  },
  {
   "cell_type": "code",
   "execution_count": null,
   "metadata": {
    "collapsed": false
   },
   "outputs": [],
   "source": [
    "from IPython.core.display import HTML\n",
    "css_file = '../../styles/numericalmoocstyle.css'\n",
    "HTML(open(css_file, \"r\").read())"
   ]
  }
 ],
 "metadata": {
  "kernelspec": {
   "display_name": "Python 3",
   "language": "python",
   "name": "python3"
  },
  "language_info": {
   "codemirror_mode": {
    "name": "ipython",
    "version": 3
   },
   "file_extension": ".py",
   "mimetype": "text/x-python",
   "name": "python",
   "nbconvert_exporter": "python",
   "pygments_lexer": "ipython3",
   "version": "3.4.3"
  }
 },
 "nbformat": 4,
 "nbformat_minor": 0
}
