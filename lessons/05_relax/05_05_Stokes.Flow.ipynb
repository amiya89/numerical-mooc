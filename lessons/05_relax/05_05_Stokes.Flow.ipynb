{
 "metadata": {
  "name": "",
  "signature": "sha256:2e7f990b70359d345252ce03da45e6856453baaa3faf4d4380070d3e58a52087"
 },
 "nbformat": 3,
 "nbformat_minor": 0,
 "worksheets": [
  {
   "cells": [
    {
     "cell_type": "heading",
     "level": 1,
     "metadata": {},
     "source": [
      "Relax and Hold Steady"
     ]
    },
    {
     "cell_type": "heading",
     "level": 2,
     "metadata": {},
     "source": [
      "Stokes Flow"
     ]
    },
    {
     "cell_type": "markdown",
     "metadata": {},
     "source": [
      "Stokes Flow refers to flows which are dominated by viscous forces and not by the advective/convective forces which usually rule the roost.  Also known as creeping flow, the Stokes Flow assumptions work well for flows which have a Reynolds number that approaches zero -- that is, very slow viscous flows.  \n",
      "\n",
      "Have you ever tried pouring honey out of a bottle?  Stokes Flow.  \n",
      "\n",
      "One benefit of examining Stokes Flow is that it allows us to simplify the Navier-Stokes equations.  Let's run through a quick derivation of the vorticity-transport equation with Stokes Flow assumptions.  "
     ]
    },
    {
     "cell_type": "heading",
     "level": 3,
     "metadata": {},
     "source": [
      "Vorticity"
     ]
    },
    {
     "cell_type": "markdown",
     "metadata": {},
     "source": [
      "We start with the Navier-Stokes equations for incompressible flow\n",
      "\n",
      "\\begin{equation}\n",
      "\\frac{\\partial u}{\\partial t} + u \\cdot \\nabla u = -\\frac{1}{\\rho}\\nabla p + \\nu\\nabla^2 u\n",
      "\\end{equation}"
     ]
    },
    {
     "cell_type": "markdown",
     "metadata": {},
     "source": [
      "If we nondimensionalize Equation $(1)$ we can rewrite it as\n",
      "\n",
      "\\begin{equation}\n",
      "Re \\left(\\frac{\\partial u^*}{\\partial t} + u^* \\cdot \\nabla u^* \\right) = -\\nabla p^* + \\nabla^2 u^*\n",
      "\\end{equation}"
     ]
    },
    {
     "cell_type": "markdown",
     "metadata": {},
     "source": [
      "Where $u^*$ and $p^*$ are the nondimensionalized velocity and pressure, respectively.  \n",
      "\n",
      "One of the assumptions in Stokes Flow is that the Reynolds number is approaching zero.  Applying that assumption to Equation $(2)$ and dropping the stars yields\n",
      "\n",
      "\\begin{equation}\n",
      "0 = - \\nabla p + \\nabla^2 u\n",
      "\\end{equation}"
     ]
    },
    {
     "cell_type": "markdown",
     "metadata": {},
     "source": [
      "That simplified things!  Now we take the curl of both sides.\n",
      "\n",
      "\\begin{equation}\n",
      "\\nabla \\times 0 = \\nabla \\times \\left( - \\nabla p + \\nabla^2 u\\right)\n",
      "\\end{equation}"
     ]
    },
    {
     "cell_type": "markdown",
     "metadata": {},
     "source": [
      "The left-hand side, understandably, remains zero."
     ]
    },
    {
     "cell_type": "markdown",
     "metadata": {},
     "source": [
      "The first term on the right-hand side"
     ]
    },
    {
     "cell_type": "markdown",
     "metadata": {},
     "source": [
      "\\begin{equation}\n",
      "\\nabla \\times - \\nabla p = 0\n",
      "\\end{equation}\n",
      "\n",
      "because $\\nabla \\times \\nabla \\phi = 0$ where $\\phi$ is a scalar."
     ]
    },
    {
     "cell_type": "markdown",
     "metadata": {},
     "source": [
      "Finally\n",
      "\n",
      "\\begin{equation}\n",
      "\\nabla \\times \\nabla^2 u =\\nabla^2\\omega\n",
      "\\end{equation}\n",
      "\n",
      "where $\\nabla \\times u = \\omega$ is the vorticity.  "
     ]
    },
    {
     "cell_type": "markdown",
     "metadata": {},
     "source": [
      "Combining all of these, we arrive at the simplified vorticity transport equation for Stokes Flow"
     ]
    },
    {
     "cell_type": "markdown",
     "metadata": {},
     "source": [
      "\\begin{equation}\n",
      "\\nabla ^2 \\omega = 0\n",
      "\\end{equation}"
     ]
    },
    {
     "cell_type": "markdown",
     "metadata": {},
     "source": [
      "Look familiar?"
     ]
    },
    {
     "cell_type": "heading",
     "level": 3,
     "metadata": {},
     "source": [
      "Stream function"
     ]
    },
    {
     "cell_type": "markdown",
     "metadata": {},
     "source": [
      "Define the stream function $\\psi$, such that\n",
      "\n",
      "\\begin{equation}\n",
      "u = \\frac{\\partial \\psi}{\\partial y} \\text{   and   } v = - \\frac{\\partial \\psi}{\\partial x}\n",
      "\\end{equation}"
     ]
    },
    {
     "cell_type": "markdown",
     "metadata": {},
     "source": [
      "In 2D, we can write out the vorticity as\n",
      "\n",
      "\\begin{equation}\n",
      "\\omega = \\frac{\\partial v}{\\partial x} - \\frac{\\partial u}{\\partial y}\n",
      "\\end{equation}"
     ]
    },
    {
     "cell_type": "markdown",
     "metadata": {},
     "source": [
      "which, combined with the previous equation yields another familiar looking equation:\n",
      "\n",
      "\\begin{equation}\n",
      "\\nabla^2 \\psi = -\\omega\n",
      "\\end{equation}"
     ]
    },
    {
     "cell_type": "markdown",
     "metadata": {},
     "source": [
      "We have two equations that can describe the fluid flow in a lid driven cavity at very low Reynolds numbers.  \n",
      "\n",
      "\\begin{equation}\n",
      "\\nabla^2 \\omega = 0\n",
      "\\end{equation}\n",
      "\n",
      "\\begin{equation}\n",
      "\\nabla^2 \\psi = -\\omega\n",
      "\\end{equation}"
     ]
    },
    {
     "cell_type": "markdown",
     "metadata": {},
     "source": [
      "Note that by substituting Equation $(12)$ into $(11)$, we arrive at a new equation -- the biharmonic equation:\n",
      "\n",
      "\\begin{equation}\n",
      "\\nabla^4 \\psi= 0\n",
      "\\end{equation}"
     ]
    },
    {
     "cell_type": "heading",
     "level": 3,
     "metadata": {},
     "source": [
      "Solving the biharmonic equation"
     ]
    },
    {
     "cell_type": "markdown",
     "metadata": {},
     "source": [
      "Is it possible to discretize a 4th-order partial differential equation?  Of course!  Are we going to?  No!\n",
      "\n",
      "There's nothing wrong with a 4th-order discretization, but we just learned about the Poisson equation and that's what we're going to use.  "
     ]
    },
    {
     "cell_type": "heading",
     "level": 3,
     "metadata": {},
     "source": [
      "Cavity Flow"
     ]
    },
    {
     "cell_type": "markdown",
     "metadata": {},
     "source": [
      "The problem we're solving in this assessment is lid-driven cavity flow.  This is a common test problem for Navier-Stokes solvers -- we'll be using it to examine Stokes flow.  \n",
      "\n",
      "The lid of a square cavity moves at a constant velocity of $u=1$.  Assuming that no fluid leaks out past the moving lid, we want to visualize what the flow field inside the cavity looks like at steady state.  \n",
      "\n",
      "All of the surfaces, including the lid, are assumed to have no-slip boundary conditions.  \n",
      "\n",
      "The boundary conditions are all specified in terms of the streamfunction $\\psi$ as shown below in Figure $(1)$.  "
     ]
    },
    {
     "cell_type": "markdown",
     "metadata": {},
     "source": [
      "<img src=\"./figures/drivencavity.svg\" width=400px>"
     ]
    },
    {
     "cell_type": "heading",
     "level": 4,
     "metadata": {},
     "source": [
      "Figure 1. Lid-driven Cavity Flow"
     ]
    },
    {
     "cell_type": "heading",
     "level": 3,
     "metadata": {},
     "source": [
      "Boundary conditions"
     ]
    },
    {
     "cell_type": "markdown",
     "metadata": {},
     "source": [
      "One of the major hurdles with the vorticity-streamfunction formulation is the treatment of boundary conditions.  \n",
      "\n",
      "The boundary conditions are all specified in terms of $\\psi$ and its derivatives, but the Laplace equation\n",
      "\n",
      "$$\\nabla \\omega^2 = 0$$\n",
      "\n",
      "has no $\\psi$ value.  Instead, we need a way to represent the boundary conditions for $\\omega$ in terms of $\\psi$.  "
     ]
    },
    {
     "cell_type": "markdown",
     "metadata": {},
     "source": [
      "Consider the equation \n",
      "\n",
      "$$\\nabla ^2 \\psi = -\\omega$$\n",
      "\n",
      "along the top surface of the cavity (the moving surface).  There can't be velocity in the y-direction because the surface is solid, so $\\frac{\\partial ^2 \\psi}{\\partial x^2}$ goes to zero and the equation simplifies to\n",
      "\n",
      "\\begin{equation}\n",
      "\\frac{\\partial ^2 \\psi}{\\partial y^2} = -\\omega\n",
      "\\end{equation}"
     ]
    },
    {
     "cell_type": "markdown",
     "metadata": {},
     "source": [
      "A 2nd-order central difference discretization gives\n",
      "\n",
      "\\begin{equation}\n",
      "\\omega_j = - \\left(\\frac{\\psi_{j+1} - 2\\psi_j + \\psi_{j-1}}{\\Delta y^2}\\right)\n",
      "\\end{equation}\n",
      "\n",
      "but the value $\\psi_{j+1}$ is outside of the domain.  Now take a 3rd-order discretization of $\\frac{\\partial \\psi}{\\partial y}$ evaluated along the top edge.\n",
      "\n",
      "\\begin{equation}\n",
      "\\left.\\frac{\\partial \\psi}{\\partial y}\\right|_j = \\frac{2\\psi_{j+1} + 3\\psi_j - 6\\psi_{j-1} + \\psi_{j-2}}{6 \\Delta y}\n",
      "\\end{equation}\n",
      "\n",
      "$\\frac{\\partial \\psi}{\\partial y}$ is a given boundary value in the problem along the top edge\n",
      "\n",
      "\\begin{equation}\n",
      "\\left.\\frac{\\partial \\psi}{\\partial y}\\right|_j = u_j\n",
      "\\end{equation}\n",
      "\n",
      "which leaves a substitutable value for $\\psi_{j+1}$ that consists only of points within the domain.  \n",
      "\n",
      "\\begin{equation}\n",
      "\\psi_{j+1} = \\frac{6\\Delta y u_j - 3\\psi_j + 6 \\psi_{j-1} - \\psi_{j-2}}{2}\n",
      "\\end{equation}"
     ]
    },
    {
     "cell_type": "markdown",
     "metadata": {},
     "source": [
      "Stick that result into the initial discretization from Equation $(16)$ and we have a boundary condition for $\\omega$ along the top surface in terms of $\\psi$\n",
      "\n",
      "\\begin{equation}\n",
      "\\omega_{i,j} = -\\frac{1}{2 \\Delta y^2} (8\\psi_{i, j-1} - \\psi_{i, j-2}) - \\frac{3u_j}{\\Delta y} + \\mathcal{O}(\\Delta y^2)\n",
      "\\end{equation}"
     ]
    },
    {
     "cell_type": "heading",
     "level": 3,
     "metadata": {},
     "source": [
      "Coding Assessment"
     ]
    },
    {
     "cell_type": "markdown",
     "metadata": {},
     "source": [
      "Solve the lid-driven cavity for Stokes Flow using the parameters given below.  \n",
      "\n",
      "You should iteratively solve for both $\\omega$ and $\\psi$ until the L1 error of successive iterations is less than $1$$\\tt{E}$$^-6$ for **both** quantities.  "
     ]
    },
    {
     "cell_type": "code",
     "collapsed": false,
     "input": [
      "nx = 41\n",
      "ny = 41\n",
      "\n",
      "l = 1.\n",
      "h = 1.\n",
      "\n",
      "dx = l/(nx-1)\n",
      "dy = h/(ny-1)\n",
      "\n",
      "error_tolerance = 1e-6"
     ],
     "language": "python",
     "metadata": {},
     "outputs": []
    },
    {
     "cell_type": "code",
     "collapsed": false,
     "input": [
      "def L1error(new, old):\n",
      "    error = numpy.sum(numpy.abs(new-old))\n",
      "    return error"
     ],
     "language": "python",
     "metadata": {},
     "outputs": []
    },
    {
     "cell_type": "markdown",
     "metadata": {},
     "source": [
      "The final results should resemble the plot shown in Figure $(2)$."
     ]
    },
    {
     "cell_type": "heading",
     "level": 5,
     "metadata": {},
     "source": [
      "Hint"
     ]
    },
    {
     "cell_type": "markdown",
     "metadata": {},
     "source": [
      "The boundary conditions for $\\omega$ depend upon the current value of $\\psi$.  The two equations are *coupled*.  If you try to solve them in a non-coupled way, things will go poorly.  "
     ]
    },
    {
     "cell_type": "markdown",
     "metadata": {},
     "source": [
      "<img src=\"./figures/contour.svg\">"
     ]
    },
    {
     "cell_type": "heading",
     "level": 4,
     "metadata": {},
     "source": [
      "Figure 2.  Contour plot of streamfunction at steady state"
     ]
    },
    {
     "cell_type": "heading",
     "level": 3,
     "metadata": {},
     "source": [
      "References"
     ]
    },
    {
     "cell_type": "markdown",
     "metadata": {},
     "source": [
      "*  Fletcher, C. A. (1988). Computational Techniques for Fluid Dynamics: Volume 2: Specific Techniques for Different Flow Categories.\n",
      "\n",
      "*  Ghia, U. K. N. G., Ghia, K. N., & Shin, C. T. (1982). High-Re solutions for incompressible flow using the Navier-Stokes equations and a multigrid method. Journal of computational physics, 48(3), 387-411.\n",
      "\n",
      "* http://www.maths.manchester.ac.uk/~mheil/Lectures/Fluids/Material/Vorticity.pdf\n",
      "\n",
      "* Non-dimensionalization and scaling of the Navier Stokes equations.  (n.d.). In *Wikipedia*.  Retrieved January 30, 2015 [http://en.wikipedia.org/w/index.php?title=Non-dimensionalization_and_scaling_of_the_Navier-Stokes_equations](http://en.wikipedia.org/w/index.php?title=Non-dimensionalization_and_scaling_of_the_Navier%E2%80%93Stokes_equations&oldid=641860920)"
     ]
    },
    {
     "cell_type": "code",
     "collapsed": false,
     "input": [
      "from IPython.core.display import HTML\n",
      "css_file = '../../styles/numericalmoocstyle.css'\n",
      "HTML(open(css_file, \"r\").read())"
     ],
     "language": "python",
     "metadata": {},
     "outputs": []
    },
    {
     "cell_type": "code",
     "collapsed": false,
     "input": [],
     "language": "python",
     "metadata": {},
     "outputs": []
    }
   ],
   "metadata": {}
  }
 ]
}
