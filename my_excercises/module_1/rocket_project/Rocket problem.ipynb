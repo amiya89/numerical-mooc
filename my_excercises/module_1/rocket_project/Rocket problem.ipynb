{
 "cells": [
  {
   "cell_type": "code",
   "execution_count": 13,
   "metadata": {
    "collapsed": true
   },
   "outputs": [],
   "source": [
    "import numpy as np\n",
    "import matplotlib.pyplot as plt\n",
    "import math\n",
    "\n",
    "%matplotlib inline"
   ]
  },
  {
   "cell_type": "code",
   "execution_count": 14,
   "metadata": {
    "collapsed": false
   },
   "outputs": [],
   "source": [
    "# Initializing\n",
    "\n",
    "m_s = 50    # Rocket structural mass\n",
    "g = 9.81\n",
    "rho = 1.091 # air density\n",
    "r = 0.5     # rocket cross-sectional radius\n",
    "A = math.pi*r**2\n",
    "v_e = 325   # exhaust speed\n",
    "c_d = 0.15  # drag coefficient\n",
    "mp_o = 100  # initial fuel weight\n",
    "m_r = 20    # fuel burn rate\n",
    "\n",
    "dt = 0.05   # time step\n",
    "t_f = 40    # estimated final time\n",
    "\n",
    "N = int((t_f/dt) + 1) # Number of steps\n",
    "\n",
    "t = np.linspace(0, t_f, N)"
   ]
  },
  {
   "cell_type": "code",
   "execution_count": 15,
   "metadata": {
    "collapsed": false
   },
   "outputs": [],
   "source": [
    "h = np.zeros_like(t)\n",
    "v = np.zeros_like(t)\n",
    "mp = np.zeros_like(t)\n",
    "#dv_t = np.zeros_like(t)"
   ]
  },
  {
   "cell_type": "code",
   "execution_count": 16,
   "metadata": {
    "collapsed": false
   },
   "outputs": [],
   "source": [
    "for i in range(N):\n",
    "    mp[i] = mp_o - (t[i]*m_r)\n",
    "    if t[i]>=5:\n",
    "        mp[i] = 0.0\n",
    "        m_r = 0.0\n",
    "    dv_t= -g + (((m_r*v_e) - (0.5*rho*c_d*A*v[i]*abs(v[i])))/(m_s + mp[i]))\n",
    "    v[i+1] = v[i] + dv_t*dt\n",
    "    h[i+1] = h[i] + (dt*v[i])\n",
    "    if h[i+1]<0:\n",
    "        break"
   ]
  },
  {
   "cell_type": "code",
   "execution_count": 17,
   "metadata": {
    "collapsed": false
   },
   "outputs": [
    {
     "data": {
      "text/plain": [
       "<matplotlib.legend.Legend at 0x202ae10>"
      ]
     },
     "execution_count": 17,
     "metadata": {},
     "output_type": "execute_result"
    },
    {
     "data": {
      "image/png": "[encoded data removed]",
      "text/plain": [
       "<matplotlib.figure.Figure at 0x1f64978>"
      ]
     },
     "metadata": {},
     "output_type": "display_data"
    }
   ],
   "source": [
    "plt.plot(t[0:i],h[0:i])\n",
    "plt.plot(t[0:i],v[0:i], 'r--')\n",
    "plt.xlabel('time', fontsize=14)\n",
    "plt.legend([\"height\",\"velocity\"])"
   ]
  },
  {
   "cell_type": "code",
   "execution_count": 18,
   "metadata": {
    "collapsed": false
   },
   "outputs": [
    {
     "name": "stdout",
     "output_type": "stream",
     "text": [
      "max height =  1342.3255657\n",
      "total time =  37.2\n",
      "max velocity =  232.277383387\n"
     ]
    }
   ],
   "source": [
    "print(\"max height = \", max(h[0:i]))\n",
    "print(\"total time = \", t[i])\n",
    "print(\"max velocity = \", max(v[0:i]))"
   ]
  },
  {
   "cell_type": "code",
   "execution_count": null,
   "metadata": {
    "collapsed": true
   },
   "outputs": [],
   "source": []
  }
 ],
 "metadata": {
  "kernelspec": {
   "display_name": "Python 3",
   "language": "python",
   "name": "python3"
  },
  "language_info": {
   "codemirror_mode": {
    "name": "ipython",
    "version": 3
   },
   "file_extension": ".py",
   "mimetype": "text/x-python",
   "name": "python",
   "nbconvert_exporter": "python",
   "pygments_lexer": "ipython3",
   "version": "3.4.3"
  }
 },
 "nbformat": 4,
 "nbformat_minor": 0
}
