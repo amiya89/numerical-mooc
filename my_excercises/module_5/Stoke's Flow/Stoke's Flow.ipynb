{
 "cells": [
  {
   "cell_type": "code",
   "execution_count": 221,
   "metadata": {
    "collapsed": true
   },
   "outputs": [],
   "source": [
    "import numpy as np\n",
    "from mpl_toolkits.mplot3d import Axes3D\n",
    "import matplotlib.pyplot as plt\n",
    "from matplotlib import rcParams, cm\n",
    "from math import pi\n",
    "%matplotlib inline\n",
    "rcParams['font.family'] = 'serif'\n",
    "rcParams['font.size'] = 16"
   ]
  },
  {
   "cell_type": "code",
   "execution_count": 222,
   "metadata": {
    "collapsed": true
   },
   "outputs": [],
   "source": [
    "nx = 41\n",
    "ny = 41\n",
    "\n",
    "l = 1\n",
    "h = 1\n",
    "\n",
    "dx = 1/(nx-1)\n",
    "dy = h/(ny-1)\n",
    "\n",
    "l1_target = 1e-6"
   ]
  },
  {
   "cell_type": "code",
   "execution_count": 223,
   "metadata": {
    "collapsed": true
   },
   "outputs": [],
   "source": [
    "def L1norm(new, old):\n",
    "    norm = np.sum(np.abs(new-old))\n",
    "    return norm"
   ]
  },
  {
   "cell_type": "code",
   "execution_count": 224,
   "metadata": {
    "collapsed": false
   },
   "outputs": [],
   "source": [
    "def poissonIG(uh, dx, dy, nx, ny, xmax, xmin, ymax, ymin):\n",
    "    \n",
    "    #Mesh\n",
    "    x = np.linspace(xmin,xmax,nx)\n",
    "    y = np.linspace(ymin,ymax,ny)\n",
    "    X,Y = np.meshgrid(x,y)\n",
    "    \n",
    "    #Initialize\n",
    "    psi_i = np.zeros((ny, nx))\n",
    "    \n",
    "    w_i = np.zeros((ny, nx))\n",
    "    \n",
    "    w_i[-1,:] = -(1/(2*dy**2))*(8*psi_i[-2,:] - psi_i[-3,:])-(3*uh/dy)\n",
    "    \n",
    "    #w_i[1:-1,1:-1] = .25 * (psi_i[:-2,1:-1] + psi_i[2:,1:-1] + psi_i[1:-1,:-2] + psi_i[1:-1,2:])\n",
    "    \n",
    "    return X, Y, x, y, psi_i, w_i"
   ]
  },
  {
   "cell_type": "code",
   "execution_count": 225,
   "metadata": {
    "collapsed": false
   },
   "outputs": [],
   "source": [
    "def stokes_flow(uh, w, p, dx, dy, l1_target):\n",
    "    \n",
    "    l1normw = 1\n",
    "    l1normpsi = 1\n",
    "    pn = np.empty_like(p)\n",
    "    wn = np.empty_like(w)\n",
    "    iterations = 0\n",
    "    \n",
    "    while l1normpsi > l1_target and l1normw > l1_target:\n",
    "        pn = p.copy()\n",
    "        wn = w.copy()\n",
    "        \n",
    "        # BC for w\n",
    "        \n",
    "        w[1:-1,1:-1] = .25 * (wn[:-2,1:-1] + wn[2:,1:-1] + wn[1:-1,:-2] + wn[1:-1,2:])\n",
    "        \n",
    "        w[-1,:] = -(1/(2*dy**2))*(8*pn[-2,:] - pn[-3,:])-(3*uh/dy)\n",
    "        w[0,:] = -(1/(2*dy**2))*(8*pn[1,:] - pn[2,:])\n",
    "        w[:,0] = -(1/(2*dx**2))*(8*pn[:,1] - pn[:,2])\n",
    "        w[:,-1] = -(1/(2*dx**2))*(8*pn[:,-2] - pn[:,-3])\n",
    "        \n",
    "        'p[1:-1,1:-1] = -((pn[1:-1,2:] + pn[1:-1,:-2])*dy**2 +\\\n",
    "                        (pn[2:,1:-1] + pn[:-2,1:-1])*dx**2 +\\\n",
    "                        wn[1:-1,1:-1]*dx**2*dy**2)/(dx**2 + dy**2)'\n",
    "        \n",
    "        p[1:-1,1:-1] = .25 * (pn[1:-1,2:] + pn[1:-1,:-2] + pn[2:,1:-1] + pn[:-2,1:-1]\\\n",
    "                             + w[1:-1,1:-1]*dx**2)\n",
    "        \n",
    "        \"\"\"#Dirichlet BC\n",
    "        p[:,0] = 0\n",
    "        p[:,-1] = 0\n",
    "        p[0,:] = 0\n",
    "        #Neumann BC\n",
    "        p[:,1] = p[:,0]\n",
    "        p[:,-2] = p[:,-1]\n",
    "        p[1,:] = p[0,:]\"\"\"\n",
    "        l1normw = L1norm(w, wn)\n",
    "        l1normpsi = L1norm(p, pn)\n",
    "        iterations += 1\n",
    "    \n",
    "    print('l1normw =', l1normw, 'l1normpsi =',l1normpsi )\n",
    "    return p, w, iterations"
   ]
  },
  {
   "cell_type": "code",
   "execution_count": 226,
   "metadata": {
    "collapsed": false
   },
   "outputs": [],
   "source": [
    "X, Y, x, y, psi, w = poissonIG(1, dx, dy, nx, ny, 0, l, 0, h)"
   ]
  },
  {
   "cell_type": "code",
   "execution_count": 227,
   "metadata": {
    "collapsed": false
   },
   "outputs": [
    {
     "data": {
      "text/plain": [
       "<matplotlib.contour.QuadContourSet at 0x883f9b3d30>"
      ]
     },
     "execution_count": 227,
     "metadata": {},
     "output_type": "execute_result"
    },
    {
     "data": {
      "image/png": "[encoded data removed]",
      "text/plain": [
       "<matplotlib.figure.Figure at 0x883f8bd438>"
      ]
     },
     "metadata": {},
     "output_type": "display_data"
    }
   ],
   "source": [
    "plt.contourf(x, y, psi,cmap=cm.viridis)"
   ]
  },
  {
   "cell_type": "code",
   "execution_count": 228,
   "metadata": {
    "collapsed": false
   },
   "outputs": [
    {
     "name": "stdout",
     "output_type": "stream",
     "text": [
      "l1normw = 0.000146063423316 l1normpsi = 9.9314678408e-07\n"
     ]
    }
   ],
   "source": [
    "p, w, i = stokes_flow(1, w, psi, dx, dy, l1_target)\n",
    "#p = np.flipud(p)\n",
    "#w = np.flipud(w)"
   ]
  },
  {
   "cell_type": "code",
   "execution_count": 229,
   "metadata": {
    "collapsed": false
   },
   "outputs": [
    {
     "data": {
      "text/plain": [
       "(41, 41)"
      ]
     },
     "execution_count": 229,
     "metadata": {},
     "output_type": "execute_result"
    }
   ],
   "source": [
    "psi.shape"
   ]
  },
  {
   "cell_type": "code",
   "execution_count": 230,
   "metadata": {
    "collapsed": false
   },
   "outputs": [
    {
     "data": {
      "text/plain": [
       "(41, 41)"
      ]
     },
     "execution_count": 230,
     "metadata": {},
     "output_type": "execute_result"
    }
   ],
   "source": [
    "w.shape"
   ]
  },
  {
   "cell_type": "code",
   "execution_count": 231,
   "metadata": {
    "collapsed": false
   },
   "outputs": [
    {
     "data": {
      "text/plain": [
       "<matplotlib.text.Text at 0x883fa47668>"
      ]
     },
     "execution_count": 231,
     "metadata": {},
     "output_type": "execute_result"
    },
    {
     "data": {
      "image/png": "[encoded data removed]",
      "text/plain": [
       "<matplotlib.figure.Figure at 0x883f98f5c0>"
      ]
     },
     "metadata": {},
     "output_type": "display_data"
    }
   ],
   "source": [
    "plot = plt.contourf(x, y, p,cmap=cm.viridis)\n",
    "cbar = plt.colorbar(plot)\n",
    "cbar.ax.set_ylabel('psi val')"
   ]
  },
  {
   "cell_type": "code",
   "execution_count": 232,
   "metadata": {
    "collapsed": false
   },
   "outputs": [
    {
     "name": "stdout",
     "output_type": "stream",
     "text": [
      "2771\n"
     ]
    }
   ],
   "source": [
    "print(i)"
   ]
  },
  {
   "cell_type": "code",
   "execution_count": 233,
   "metadata": {
    "collapsed": false
   },
   "outputs": [],
   "source": [
    "#np.set_printoptions(threshold=None)"
   ]
  },
  {
   "cell_type": "code",
   "execution_count": 234,
   "metadata": {
    "collapsed": false
   },
   "outputs": [
    {
     "name": "stdout",
     "output_type": "stream",
     "text": [
      "[[ -0.00000000e+00  -7.28736853e-03  -1.37945261e-02 ...,  -1.37945261e-02\n",
      "   -7.28736853e-03  -0.00000000e+00]\n",
      " [ -7.31234508e-03   2.04536217e-03   1.14113234e-02 ...,   1.14113234e-02\n",
      "    2.04536217e-03  -7.31234508e-03]\n",
      " [ -1.39943385e-02   1.13698526e-02   3.23122312e-02 ...,   3.23122312e-02\n",
      "    1.13698526e-02  -1.39943385e-02]\n",
      " ..., \n",
      " [  2.84608778e+01   3.17800742e+00  -7.89273708e+00 ...,  -7.89273708e+00\n",
      "    3.17800742e+00   2.84608778e+01]\n",
      " [  3.61967436e+01  -1.53446722e+01  -2.25607787e+01 ...,  -2.25607787e+01\n",
      "   -1.53446722e+01   3.61967436e+01]\n",
      " [ -0.00000000e+00  -7.81926610e+01  -4.66543589e+01 ...,  -4.66543589e+01\n",
      "   -7.81926610e+01  -0.00000000e+00]]\n"
     ]
    }
   ],
   "source": [
    "print(w)"
   ]
  },
  {
   "cell_type": "code",
   "execution_count": 235,
   "metadata": {
    "collapsed": false
   },
   "outputs": [
    {
     "data": {
      "text/plain": [
       "78.192660960145787"
      ]
     },
     "execution_count": 235,
     "metadata": {},
     "output_type": "execute_result"
    }
   ],
   "source": [
    "np.max(np.abs(w))"
   ]
  },
  {
   "cell_type": "code",
   "execution_count": 236,
   "metadata": {
    "collapsed": false
   },
   "outputs": [
    {
     "data": {
      "text/plain": [
       "array([ 0.    , -0.0575, -0.0944, -0.0944, -0.0575,  0.    ])"
      ]
     },
     "execution_count": 236,
     "metadata": {},
     "output_type": "execute_result"
    }
   ],
   "source": [
    "np.round(p[32,::8], 4)"
   ]
  },
  {
   "cell_type": "code",
   "execution_count": null,
   "metadata": {
    "collapsed": true
   },
   "outputs": [],
   "source": []
  }
 ],
 "metadata": {
  "kernelspec": {
   "display_name": "Python 3",
   "language": "python",
   "name": "python3"
  },
  "language_info": {
   "codemirror_mode": {
    "name": "ipython",
    "version": 3
   },
   "file_extension": ".py",
   "mimetype": "text/x-python",
   "name": "python",
   "nbconvert_exporter": "python",
   "pygments_lexer": "ipython3",
   "version": "3.5.1"
  }
 },
 "nbformat": 4,
 "nbformat_minor": 0
}
