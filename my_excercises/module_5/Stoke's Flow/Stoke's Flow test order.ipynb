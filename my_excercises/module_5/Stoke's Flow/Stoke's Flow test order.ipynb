{
 "cells": [
  {
   "cell_type": "code",
   "execution_count": 81,
   "metadata": {
    "collapsed": true
   },
   "outputs": [],
   "source": [
    "import numpy as np\n",
    "from mpl_toolkits.mplot3d import Axes3D\n",
    "import matplotlib.pyplot as plt\n",
    "from matplotlib import rcParams, cm\n",
    "from math import pi\n",
    "%matplotlib inline\n",
    "rcParams['font.family'] = 'serif'\n",
    "rcParams['font.size'] = 16"
   ]
  },
  {
   "cell_type": "code",
   "execution_count": 82,
   "metadata": {
    "collapsed": true
   },
   "outputs": [],
   "source": [
    "nx = 41\n",
    "ny = 41\n",
    "\n",
    "l = 1\n",
    "h = 1\n",
    "\n",
    "dx = 1/(nx-1)\n",
    "dy = h/(ny-1)\n",
    "\n",
    "l1_target = 1e-6"
   ]
  },
  {
   "cell_type": "code",
   "execution_count": 83,
   "metadata": {
    "collapsed": true
   },
   "outputs": [],
   "source": [
    "def L1norm(new, old):\n",
    "    norm = np.sum(np.abs(new-old))\n",
    "    return norm"
   ]
  },
  {
   "cell_type": "code",
   "execution_count": 84,
   "metadata": {
    "collapsed": false
   },
   "outputs": [],
   "source": [
    "def poissonIG(uh, dx, dy, nx, ny, xmax, xmin, ymax, ymin):\n",
    "    \n",
    "    #Mesh\n",
    "    x = np.linspace(xmin,xmax,nx)\n",
    "    y = np.linspace(ymin,ymax,ny)\n",
    "    X,Y = np.meshgrid(x,y)\n",
    "    \n",
    "    #Initialize\n",
    "    psi_i = np.zeros((ny, nx))\n",
    "    \n",
    "    w_i = np.zeros((ny, nx))\n",
    "    \n",
    "    w_i[-1,:] = -(1/(2*dy**2))*(8*psi_i[-2,:] - psi_i[-3,:])-(3*uh/dy)\n",
    "    \n",
    "    #w_i[1:-1,1:-1] = .25 * (psi_i[:-2,1:-1] + psi_i[2:,1:-1] + psi_i[1:-1,:-2] + psi_i[1:-1,2:])\n",
    "    \n",
    "    return X, Y, x, y, psi_i, w_i"
   ]
  },
  {
   "cell_type": "code",
   "execution_count": 85,
   "metadata": {
    "collapsed": false
   },
   "outputs": [],
   "source": [
    "def stokes_flow(uh, w, p, dx, dy, l1_target):\n",
    "    \n",
    "    l1normw = 1\n",
    "    l1normpsi = 1\n",
    "    pn = np.empty_like(p)\n",
    "    wn = np.empty_like(w)\n",
    "    iterations = 0\n",
    "    \n",
    "    while l1normpsi > l1_target and l1normw > l1_target:\n",
    "        pn = p.copy()\n",
    "        wn = w.copy()\n",
    "        \n",
    "        # BC for w\n",
    "        wn[-1,:] = -(1/(2*dy**2))*(8*p[-2,:] - pn[-3,:])-(3*uh/dy)\n",
    "        \n",
    "        p[1:-1,1:-1] = .25 * (pn[1:-1,2:] + pn[1:-1,:-2] + pn[2:,1:-1] + pn[:-2,1:-1]\\\n",
    "                             + wn[1:-1,1:-1]*dx**2)\n",
    "        \n",
    "        \"\"\"#Dirichlet BC\n",
    "        p[:,0] = 0\n",
    "        p[:,-1] = 0\n",
    "        p[0,:] = 0\n",
    "        #Neumann BC\n",
    "        p[:,1] = p[:,0]\n",
    "        p[:,-2] = p[:,-1]\n",
    "        p[1,:] = p[0,:]\"\"\"\n",
    "        # BC for w\n",
    "        wn[-1,:] = -(1/(2*dy**2))*(8*p[-2,:] - pn[-3,:])-(3*uh/dy)\n",
    "        \n",
    "        w[1:-1,1:-1] = .25 * (wn[:-2,1:-1] + wn[2:,1:-1] + wn[1:-1,:-2] + wn[1:-1,2:])\n",
    "        \n",
    "        p[1:-1,1:-1] = .25 * (pn[1:-1,2:] + pn[1:-1,:-2] + pn[2:,1:-1] + pn[:-2,1:-1]\\\n",
    "                             + wn[1:-1,1:-1]*dx**2)\n",
    "        \n",
    "        l1normw = L1norm(w, wn)\n",
    "        l1normpsi = L1norm(p, pn)\n",
    "        iterations += 1\n",
    "    \n",
    "    print('l1normw =', l1normw, 'l1normpsi =',l1normpsi )\n",
    "    return p, w, iterations"
   ]
  },
  {
   "cell_type": "code",
   "execution_count": 86,
   "metadata": {
    "collapsed": false
   },
   "outputs": [],
   "source": [
    "X, Y, x, y, psi, w = poissonIG(1, dx, dy, nx, ny, 0, l, 0, h)"
   ]
  },
  {
   "cell_type": "code",
   "execution_count": 87,
   "metadata": {
    "collapsed": false
   },
   "outputs": [
    {
     "data": {
      "text/plain": [
       "<matplotlib.contour.QuadContourSet at 0x89448232e8>"
      ]
     },
     "execution_count": 87,
     "metadata": {},
     "output_type": "execute_result"
    },
    {
     "data": {
      "image/png": "[encoded data removed]",
      "text/plain": [
       "<matplotlib.figure.Figure at 0x894beffa90>"
      ]
     },
     "metadata": {},
     "output_type": "display_data"
    }
   ],
   "source": [
    "plt.contourf(x, y, psi,cmap=cm.viridis)"
   ]
  },
  {
   "cell_type": "code",
   "execution_count": 88,
   "metadata": {
    "collapsed": false
   },
   "outputs": [
    {
     "name": "stdout",
     "output_type": "stream",
     "text": [
      "l1normw = 1170.0 l1normpsi = 0.0\n"
     ]
    }
   ],
   "source": [
    "p, w, i = stokes_flow(1, w, psi, dx, dy, l1_target)\n",
    "p = np.flipud(p)"
   ]
  },
  {
   "cell_type": "code",
   "execution_count": 89,
   "metadata": {
    "collapsed": false
   },
   "outputs": [
    {
     "data": {
      "text/plain": [
       "(41, 41)"
      ]
     },
     "execution_count": 89,
     "metadata": {},
     "output_type": "execute_result"
    }
   ],
   "source": [
    "psi.shape"
   ]
  },
  {
   "cell_type": "code",
   "execution_count": 90,
   "metadata": {
    "collapsed": false
   },
   "outputs": [
    {
     "data": {
      "text/plain": [
       "(41, 41)"
      ]
     },
     "execution_count": 90,
     "metadata": {},
     "output_type": "execute_result"
    }
   ],
   "source": [
    "w.shape"
   ]
  },
  {
   "cell_type": "code",
   "execution_count": 91,
   "metadata": {
    "collapsed": false
   },
   "outputs": [
    {
     "data": {
      "text/plain": [
       "<matplotlib.contour.QuadContourSet at 0x894488bcf8>"
      ]
     },
     "execution_count": 91,
     "metadata": {},
     "output_type": "execute_result"
    },
    {
     "data": {
      "image/png": "[encoded data removed]",
      "text/plain": [
       "<matplotlib.figure.Figure at 0x89447f7518>"
      ]
     },
     "metadata": {},
     "output_type": "display_data"
    }
   ],
   "source": [
    "plt.contourf(x, y, p,cmap=cm.viridis)"
   ]
  },
  {
   "cell_type": "code",
   "execution_count": 92,
   "metadata": {
    "collapsed": false
   },
   "outputs": [
    {
     "name": "stdout",
     "output_type": "stream",
     "text": [
      "1\n"
     ]
    }
   ],
   "source": [
    "print(i)"
   ]
  },
  {
   "cell_type": "code",
   "execution_count": 93,
   "metadata": {
    "collapsed": false
   },
   "outputs": [],
   "source": [
    "#np.set_printoptions(threshold=None)"
   ]
  },
  {
   "cell_type": "code",
   "execution_count": 94,
   "metadata": {
    "collapsed": false
   },
   "outputs": [
    {
     "name": "stdout",
     "output_type": "stream",
     "text": [
      "[[   0.    0.    0. ...,    0.    0.    0.]\n",
      " [   0.    0.    0. ...,    0.    0.    0.]\n",
      " [   0.    0.    0. ...,    0.    0.    0.]\n",
      " ..., \n",
      " [   0.    0.    0. ...,    0.    0.    0.]\n",
      " [   0.  -30.  -30. ...,  -30.  -30.    0.]\n",
      " [-120. -120. -120. ..., -120. -120. -120.]]\n"
     ]
    }
   ],
   "source": [
    "print(w)"
   ]
  },
  {
   "cell_type": "code",
   "execution_count": 95,
   "metadata": {
    "collapsed": false
   },
   "outputs": [
    {
     "data": {
      "text/plain": [
       "0.0"
      ]
     },
     "execution_count": 95,
     "metadata": {},
     "output_type": "execute_result"
    }
   ],
   "source": [
    "np.max(np.abs(p))"
   ]
  },
  {
   "cell_type": "code",
   "execution_count": 96,
   "metadata": {
    "collapsed": false
   },
   "outputs": [
    {
     "data": {
      "text/plain": [
       "array([ 0.,  0.,  0.,  0.,  0.,  0.])"
      ]
     },
     "execution_count": 96,
     "metadata": {},
     "output_type": "execute_result"
    }
   ],
   "source": [
    "np.round(p[32,::8], 4)"
   ]
  },
  {
   "cell_type": "code",
   "execution_count": null,
   "metadata": {
    "collapsed": true
   },
   "outputs": [],
   "source": []
  }
 ],
 "metadata": {
  "kernelspec": {
   "display_name": "Python 3",
   "language": "python",
   "name": "python3"
  },
  "language_info": {
   "codemirror_mode": {
    "name": "ipython",
    "version": 3
   },
   "file_extension": ".py",
   "mimetype": "text/x-python",
   "name": "python",
   "nbconvert_exporter": "python",
   "pygments_lexer": "ipython3",
   "version": "3.5.1"
  }
 },
 "nbformat": 4,
 "nbformat_minor": 0
}
