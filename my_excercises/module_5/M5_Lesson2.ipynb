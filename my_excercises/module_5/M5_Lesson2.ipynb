{
 "cells": [
  {
   "cell_type": "code",
   "execution_count": 1,
   "metadata": {
    "collapsed": false
   },
   "outputs": [],
   "source": [
    "from mpl_toolkits.mplot3d import Axes3D\n",
    "import matplotlib.pyplot as plt\n",
    "from matplotlib import cm\n",
    "from math import pi\n",
    "import numpy as np\n",
    "%matplotlib inline\n",
    "from matplotlib import rcParams\n",
    "rcParams['font.family'] = 'serif'\n",
    "rcParams['font.size'] = 16"
   ]
  },
  {
   "cell_type": "code",
   "execution_count": 2,
   "metadata": {
    "collapsed": true
   },
   "outputs": [],
   "source": [
    "# Parameters\n",
    "nx = 41\n",
    "ny = 41\n",
    "xmin = 0\n",
    "xmax = 1\n",
    "ymin = -0.5\n",
    "ymax = 0.5\n",
    "\n",
    "l2_target = 2e-7"
   ]
  },
  {
   "cell_type": "code",
   "execution_count": null,
   "metadata": {
    "collapsed": true
   },
   "outputs": [],
   "source": [
    "def poisson_IG(nx, ny, xmax, xmin, ymax, ymin):\n",
    "    '''Initialize the Poisson problem initial guess and other variables\n",
    "    \n",
    "    Parameters:\n",
    "    -----------\n",
    "    nx : int\n",
    "        number of mesh points in x\n",
    "    ny : int\n",
    "        number of mesh points in y\n",
    "    xmax: float\n",
    "        maximum value of x in mesh\n",
    "    xmin: float\n",
    "        minimum value of x in mesh\n",
    "    ymax: float\n",
    "        maximum value of y in mesh\n",
    "    ymin: float\n",
    "        minimum value of y in mesh\n",
    "    \n",
    "    Returns:\n",
    "    --------\n",
    "    X  : 2D array of floats\n",
    "        X-position of mesh\n",
    "    Y  : 2D array of floats\n",
    "        Y-position of mesh\n",
    "    p_i: 2D array of floats\n",
    "        initial guess of p\n",
    "    b  : 2D array of floats\n",
    "        forcing function\n",
    "    dx : float\n",
    "        mesh size in x direction\n",
    "    dy : float\n",
    "        mesh size in y direction\n",
    "    '''\n",
    "    \n",
    "    dx = (xmax-xmin)/(nx-1)\n",
    "    dy = (ymax-ymin)/(ny-1)\n",
    "    \n",
    "    #Mesh\n",
    "    x = np.linspace(xmin,xmax,nx)\n",
    "    y = np.linspace(ymin,ymax,ny)\n",
    "    X,Y = np.meshgrid(x,y)\n",
    "    \n",
    "    #Source\n",
    "    L = xmax-xmin\n",
    "    "
   ]
  }
 ],
 "metadata": {
  "kernelspec": {
   "display_name": "Python 3",
   "language": "python",
   "name": "python3"
  },
  "language_info": {
   "codemirror_mode": {
    "name": "ipython",
    "version": 3
   },
   "file_extension": ".py",
   "mimetype": "text/x-python",
   "name": "python",
   "nbconvert_exporter": "python",
   "pygments_lexer": "ipython3",
   "version": "3.5.1"
  }
 },
 "nbformat": 4,
 "nbformat_minor": 0
}
